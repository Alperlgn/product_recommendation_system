{
 "cells": [
  {
   "cell_type": "code",
   "execution_count": 19,
   "id": "b323c5ab",
   "metadata": {},
   "outputs": [],
   "source": [
    "import pandas as pd\n",
    "\n",
    "data_frames = {\n",
    "    \"meta_All_Beauty\": pd.read_json(\"C:/Users/Alper Ilgın/Desktop/bitime projesi/bitime projesi/meta_All_Beauty.jsonl\", lines=True),\n",
    "    \"meta_Digital_Music\": pd.read_json(\"C:/Users/Alper Ilgın/Desktop/bitime projesi/bitime projesi/meta_Digital_Music.jsonl\", lines=True),\n",
    "    \"meta_Health_and_Personal_Care\": pd.read_json(\"C:/Users/Alper Ilgın/Desktop/bitime projesi/bitime projesi/meta_Health_and_Personal_Care.jsonl\", lines=True)\n",
    "}"
   ]
  },
  {
   "cell_type": "markdown",
   "id": "5ba9aca0",
   "metadata": {},
   "source": [
    "verilerimizi yükledik. sonrasında sütun adlarını görmek için başka bir sorgu daha yazıyorum."
   ]
  },
  {
   "cell_type": "code",
   "execution_count": 20,
   "id": "30aebe07",
   "metadata": {},
   "outputs": [
    {
     "name": "stdout",
     "output_type": "stream",
     "text": [
      "meta_All_Beauty veri seti sütunları:\n",
      "Index(['main_category', 'title', 'average_rating', 'rating_number', 'features',\n",
      "       'description', 'price', 'images', 'videos', 'store', 'categories',\n",
      "       'details', 'parent_asin', 'bought_together'],\n",
      "      dtype='object') \n",
      "\n",
      "meta_Digital_Music veri seti sütunları:\n",
      "Index(['main_category', 'title', 'average_rating', 'rating_number', 'features',\n",
      "       'description', 'price', 'images', 'videos', 'store', 'categories',\n",
      "       'details', 'parent_asin', 'bought_together'],\n",
      "      dtype='object') \n",
      "\n",
      "meta_Health_and_Personal_Care veri seti sütunları:\n",
      "Index(['main_category', 'title', 'average_rating', 'rating_number', 'features',\n",
      "       'description', 'price', 'images', 'videos', 'store', 'categories',\n",
      "       'details', 'parent_asin', 'bought_together'],\n",
      "      dtype='object') \n",
      "\n"
     ]
    }
   ],
   "source": [
    "for key, df in data_frames.items():\n",
    "    print(f\"{key} veri seti sütunları:\")\n",
    "    print(df.columns, \"\\n\")"
   ]
  },
  {
   "cell_type": "raw",
   "id": "87f76672",
   "metadata": {},
   "source": [
    "benzer ürünleri tespit eden bir öneri sistemi geliştirmek üzere devam ediyorum verimi hazırlamaya"
   ]
  },
  {
   "cell_type": "code",
   "execution_count": 21,
   "id": "be556212",
   "metadata": {},
   "outputs": [],
   "source": [
    "# veri hazırlık"
   ]
  },
  {
   "cell_type": "raw",
   "id": "9f8a272d",
   "metadata": {},
   "source": [
    "title ve detail sütunlarındaki metinleri temizleyeceğiz (örneğin: noktalama işaretlerini kaldırma, küçük harfe çevirme, gereksiz boşlukları temizleme gibi)."
   ]
  },
  {
   "cell_type": "code",
   "execution_count": 22,
   "id": "ce8e94b2",
   "metadata": {},
   "outputs": [],
   "source": [
    "import re\n",
    "\n",
    "def clean_text(text):\n",
    "    if isinstance(text, str):\n",
    "        text = re.sub(r'[^\\w\\s]', '', text)\n",
    "        text = text.lower()\n",
    "        text = re.sub(r'\\s+', ' ', text).strip()\n",
    "    return text"
   ]
  },
  {
   "cell_type": "markdown",
   "id": "cc01fc60",
   "metadata": {},
   "source": [
    "şimdi de yine bütün veri setlerini temizlemek ve daha sonra kullanılabilri bir formatta kaydetmek için başka bir temizleme sorgusu yazıyorum."
   ]
  },
  {
   "cell_type": "code",
   "execution_count": 23,
   "id": "7ae249f1",
   "metadata": {},
   "outputs": [
    {
     "name": "stdout",
     "output_type": "stream",
     "text": [
      "meta_All_Beauty veri seti temizleme tamamlandı. İlk birkaç satır:\n",
      "                                               title  \\\n",
      "0     howard lc0008 leather conditioner 8ounce 4pack   \n",
      "1  yes to tomatoes detoxifying charcoal cleanser ...   \n",
      "2     eye patch black adult with tie band 6 per pack   \n",
      "3  tattoo eyebrow stickers waterproof eyebrow 4d ...   \n",
      "4  precision plunger bars for cartridge grips 93m...   \n",
      "\n",
      "                                              detail  \n",
      "0  {'Package Dimensions': '7.1 x 5.5 x 3 inches; ...  \n",
      "1  {'Item Form': 'Powder', 'Skin Type': 'Acne Pro...  \n",
      "2         {'Manufacturer': 'Levine Health Products'}  \n",
      "3  {'Brand': 'Cherioll', 'Item Form': 'Powder', '...  \n",
      "4                            {'UPC': '644287689178'}   \n",
      "\n",
      "meta_Digital_Music veri seti temizleme tamamlandı. İlk birkaç satır:\n",
      "                                               title  \\\n",
      "0                                  baja marimba band   \n",
      "1       80s halloweenall original artists recordings   \n",
      "2                                             trio 1   \n",
      "3  gold and silver lehar delibes lanner johann st...   \n",
      "4  grateful dead daves picks volume 25 live at br...   \n",
      "\n",
      "                                              detail  \n",
      "0      {'Date First Available': 'February 28, 2010'}  \n",
      "1  {'Package Dimensions': '5.55 x 4.97 x 0.54 inc...  \n",
      "2  {'Is Discontinued By Manufacturer': 'No', 'Pac...  \n",
      "3  {'Manufacturer': 'Hungaroton / White Label', '...  \n",
      "4  {'Package Dimensions': '5.55 x 4.97 x 0.54 inc...   \n",
      "\n",
      "meta_Health_and_Personal_Care veri seti temizleme tamamlandı. İlk birkaç satır:\n",
      "                                               title  \\\n",
      "0  silicone bath body brush exfoliator shower bac...   \n",
      "1  iphone 7 plus 8 plus screen protector zhxin tr...   \n",
      "2  zig zag rolling machine 70mm size with free bo...   \n",
      "3        stingkill disposable wipes 8 each pack of 5   \n",
      "4  heated eyelash curler mini portable electric e...   \n",
      "\n",
      "                                              detail  \n",
      "0  {'Package Dimensions': '15 x 3.3 x 1.5 inches;...  \n",
      "1  {'Brand': 'ZHXIN', 'Compatible Devices': 'Cell...  \n",
      "2  {'Package Dimensions': '4.1 x 1.8 x 0.3 inches...  \n",
      "3  {'Brand': 'Sting-kill', 'Item Form': 'Wipe', '...  \n",
      "4  {'Package Dimensions': '6.1 x 3.1 x 1.9 inches...   \n",
      "\n"
     ]
    }
   ],
   "source": [
    "meta_data_sets = {\n",
    "    \"meta_All_Beauty\": data_frames[\"meta_All_Beauty\"],\n",
    "    \"meta_Digital_Music\": data_frames[\"meta_Digital_Music\"],\n",
    "    \"meta_Health_and_Personal_Care\": data_frames[\"meta_Health_and_Personal_Care\"]\n",
    "}\n",
    "\n",
    "cleaned_data_frames = {}\n",
    "\n",
    "for key, df in meta_data_sets.items():\n",
    "    if 'title' in df.columns and 'details' in df.columns:\n",
    "        core_data = df[['title', 'details']].copy()\n",
    "        core_data.rename(columns={'details': 'detail'}, inplace=True)\n",
    "    elif 'title' in df.columns and 'description' in df.columns:\n",
    "        core_data = df[['title', 'description']].copy()\n",
    "        core_data.rename(columns={'description': 'detail'}, inplace=True)\n",
    "    else:\n",
    "        print(f\"{key} veri setinde 'title' ve 'details/description' sütunları bulunamadı.\")\n",
    "        continue\n",
    "\n",
    "    core_data['title'] = core_data['title'].apply(clean_text)\n",
    "    core_data['detail'] = core_data['detail'].apply(clean_text)\n",
    "\n",
    "    core_data.dropna(subset=['title', 'detail'], how='all', inplace=True)\n",
    "\n",
    "    cleaned_data_frames[key] = core_data\n",
    "\n",
    "    print(f\"{key} veri seti temizleme tamamlandı. İlk birkaç satır:\")\n",
    "    print(core_data.head(), \"\\n\")"
   ]
  },
  {
   "cell_type": "markdown",
   "id": "782ac565",
   "metadata": {},
   "source": [
    "Her veri seti, title ve details sütunlarını içermekte\n",
    "\n",
    "Gereksiz boşluklar ve noktalama işaretleri, büyük küçük harf uyumsuzlukları düzeltilmiş hali bu şekjilde."
   ]
  },
  {
   "cell_type": "code",
   "execution_count": 24,
   "id": "d664d4c1",
   "metadata": {},
   "outputs": [],
   "source": [
    "# Sentence transformers ile vektörleştirme yapacağım. "
   ]
  },
  {
   "cell_type": "markdown",
   "id": "ffaa3db7",
   "metadata": {},
   "source": [
    "Amaç: title ve detail sütunlarını birleştirip, Sentence Transformers kullanarak vektörleştirmek.\n",
    "\n",
    "İzlenecek Yol: \n",
    "öNCe Sentence Transformers modelini yükleyelim. Birleştirilmiş metinleri (title + detail) modelden geçirerek her bir ürün için vektörleri oluşturalım. Yaptığımız vektörleşme işlemindeki vektörleri benzerlik hesaplamasında kullanacağız."
   ]
  },
  {
   "cell_type": "raw",
   "id": "e36be60b",
   "metadata": {},
   "source": [
    "Sentence Transformers modelini yüklerken uyumsuzluk sorunları yaşadım. anaconda promt tan yönetici pozisyonunda kütüphaneleri silerek tekrar kütüphanaleri tekrar yüklemesini oradan gerçekleştirdim."
   ]
  },
  {
   "cell_type": "markdown",
   "id": "1ee810d4",
   "metadata": {},
   "source": [
    "şimdi birleştirilmiş metin sütunu oluşturmaya çalışıcam. başlık ve açıklamalar tek bir metin halinde olacak."
   ]
  },
  {
   "cell_type": "markdown",
   "id": "f74bddf8",
   "metadata": {},
   "source": [
    "bu birleşmiş sütunu vektörleşme için kullnacağım."
   ]
  },
  {
   "cell_type": "code",
   "execution_count": 25,
   "id": "e565b8eb",
   "metadata": {},
   "outputs": [
    {
     "name": "stdout",
     "output_type": "stream",
     "text": [
      "meta_All_Beauty veri seti işleniyor...\n",
      "meta_All_Beauty sütunlar: Index(['title', 'detail', 'combined_text'], dtype='object')\n",
      "\n",
      "meta_Digital_Music veri seti işleniyor...\n",
      "meta_Digital_Music sütunlar: Index(['title', 'detail', 'combined_text'], dtype='object')\n",
      "\n",
      "meta_Health_and_Personal_Care veri seti işleniyor...\n",
      "meta_Health_and_Personal_Care sütunlar: Index(['title', 'detail', 'combined_text'], dtype='object')\n",
      "\n"
     ]
    }
   ],
   "source": [
    "for key, df in cleaned_data_frames.items():\n",
    "    print(f\"{key} veri seti işleniyor...\")\n",
    "    \n",
    "    df['combined_text'] = df['title'].astype(str) + \" \" + df['detail'].astype(str)\n",
    "    print(f\"{key} sütunlar: {df.columns}\\n\")"
   ]
  },
  {
   "cell_type": "raw",
   "id": "21a80be4",
   "metadata": {},
   "source": [
    "veri itplerini stringe çeviriyoum metinleri birleştirirken"
   ]
  },
  {
   "cell_type": "code",
   "execution_count": 8,
   "id": "71466217",
   "metadata": {},
   "outputs": [],
   "source": [
    "df['combined_text'] = df['title'].astype(str) + \" \" + df['detail'].astype(str)"
   ]
  },
  {
   "cell_type": "code",
   "execution_count": 27,
   "id": "52e6dbe0",
   "metadata": {},
   "outputs": [
    {
     "name": "stderr",
     "output_type": "stream",
     "text": [
      "C:\\ProgramData\\anaconda3\\Lib\\site-packages\\transformers\\utils\\generic.py:260: FutureWarning: `torch.utils._pytree._register_pytree_node` is deprecated. Please use `torch.utils._pytree.register_pytree_node` instead.\n",
      "  torch.utils._pytree._register_pytree_node(\n"
     ]
    }
   ],
   "source": [
    "from sentence_transformers import SentenceTransformer\n",
    "\n",
    "model = SentenceTransformer('all-MiniLM-L6-v2')  # Bu modeli ya da ihtiyaçlarınıza uygun başka bir modeli seçebilirsiniz"
   ]
  },
  {
   "cell_type": "code",
   "execution_count": null,
   "id": "4ca1cff8",
   "metadata": {},
   "outputs": [],
   "source": [
    "model tanımlı değil hatası aldığım için tanımlama kodu yazdım. hatalı mesajı burada göstermiyorum kalabalık yapmasın diye. düzelmiş halini gösteriyorum."
   ]
  },
  {
   "cell_type": "raw",
   "id": "05386ec8",
   "metadata": {},
   "source": [
    "az önce yaptığımız birşeştirilmiş metini şimdi vektörleşmede kullanma zamanı geldi."
   ]
  },
  {
   "cell_type": "code",
   "execution_count": 29,
   "id": "d3bac17f",
   "metadata": {},
   "outputs": [
    {
     "name": "stdout",
     "output_type": "stream",
     "text": [
      "Şu anda işlenen veri seti: meta_All_Beauty\n"
     ]
    },
    {
     "data": {
      "application/vnd.jupyter.widget-view+json": {
       "model_id": "e80e99b867f2418d9024ba065a88a931",
       "version_major": 2,
       "version_minor": 0
      },
      "text/plain": [
       "Batches:   0%|          | 0/3519 [00:00<?, ?it/s]"
      ]
     },
     "metadata": {},
     "output_type": "display_data"
    },
    {
     "name": "stdout",
     "output_type": "stream",
     "text": [
      "meta_All_Beauty veri seti için vektörleşme tamamlandı. İlk birkaç vektör boyutu: (384,)\n",
      "Örnek vektör: [-0.10016997  0.07002746  0.02030244 -0.02115476 -0.03985693]\n",
      "\n",
      "Şu anda işlenen veri seti: meta_Digital_Music\n"
     ]
    },
    {
     "data": {
      "application/vnd.jupyter.widget-view+json": {
       "model_id": "61f1bec2d791465f82ccab34f0528244",
       "version_major": 2,
       "version_minor": 0
      },
      "text/plain": [
       "Batches:   0%|          | 0/2205 [00:00<?, ?it/s]"
      ]
     },
     "metadata": {},
     "output_type": "display_data"
    },
    {
     "name": "stdout",
     "output_type": "stream",
     "text": [
      "meta_Digital_Music veri seti için vektörleşme tamamlandı. İlk birkaç vektör boyutu: (384,)\n",
      "Örnek vektör: [ 0.04765073  0.00866358 -0.041355    0.06633677 -0.04508306]\n",
      "\n",
      "Şu anda işlenen veri seti: meta_Health_and_Personal_Care\n"
     ]
    },
    {
     "data": {
      "application/vnd.jupyter.widget-view+json": {
       "model_id": "ac94e961d57141c3bff45813ff70783c",
       "version_major": 2,
       "version_minor": 0
      },
      "text/plain": [
       "Batches:   0%|          | 0/1885 [00:00<?, ?it/s]"
      ]
     },
     "metadata": {},
     "output_type": "display_data"
    },
    {
     "name": "stdout",
     "output_type": "stream",
     "text": [
      "meta_Health_and_Personal_Care veri seti için vektörleşme tamamlandı. İlk birkaç vektör boyutu: (384,)\n",
      "Örnek vektör: [-0.05968045  0.04406808  0.12206455  0.01793677 -0.02237317]\n",
      "\n"
     ]
    }
   ],
   "source": [
    "sentence_embeddings = {}\n",
    "\n",
    "for key, df in cleaned_data_frames.items():\n",
    "    print(f\"Şu anda işlenen veri seti: {key}\")\n",
    "\n",
    "    df['combined_text'] = df['title'].astype(str) + \" \" + df['detail'].astype(str)\n",
    "\n",
    "    embeddings = model.encode(df['combined_text'].tolist(), show_progress_bar=True)\n",
    "\n",
    "    sentence_embeddings[key] = embeddings\n",
    "\n",
    "    print(f\"{key} veri seti için vektörleşme tamamlandı. İlk birkaç vektör boyutu: {embeddings[0].shape}\")\n",
    "    print(f\"Örnek vektör: {embeddings[0][:5]}\\n\")"
   ]
  },
  {
   "cell_type": "markdown",
   "id": "1d67c06d",
   "metadata": {},
   "source": [
    "metinler Sentence Transformers modeli (all-MiniLM-L6-v2) ile 384 boyutlu vektörlere dönüştürüldü"
   ]
  },
  {
   "cell_type": "markdown",
   "id": "b31aa0d8",
   "metadata": {},
   "source": [
    "her dataset için ayrı ayrı toplam metin sayısı, vektör boyutu sonuçları çıktı."
   ]
  },
  {
   "cell_type": "markdown",
   "id": "cf1ad5f6",
   "metadata": {},
   "source": [
    "Artık her ürün metni, sayısal bir formatta temsil ediliyor. Bu temsil, ürünler arasında benzerlik hesaplamak veya öneri sistemleri geliştirmek için temel oluşturuyor."
   ]
  },
  {
   "cell_type": "raw",
   "id": "05cb1282",
   "metadata": {},
   "source": [
    "Şimdi vektörleştirilmiş verileri kullanarak benzerlik hesaplama aşamasına geçiyorum"
   ]
  },
  {
   "cell_type": "code",
   "execution_count": 30,
   "id": "6ac240c7",
   "metadata": {},
   "outputs": [],
   "source": [
    "# Benzerlik Hesaplama"
   ]
  },
  {
   "cell_type": "markdown",
   "id": "48db3fc5",
   "metadata": {},
   "source": [
    "her bir ürün için benzer ürünleri tespit etmek amacıyla vektörler arasındaki benzerlik oranlarını hesaplayacağım"
   ]
  },
  {
   "cell_type": "markdown",
   "id": "08db2e23",
   "metadata": {},
   "source": [
    "Cosine similarity ile hesaplama yapacağım."
   ]
  },
  {
   "cell_type": "raw",
   "id": "531e5dd3",
   "metadata": {},
   "source": [
    "Buİki vektör arasındaki benzerliği ölçen bir yöntemdir.\n",
    "Değerler -1 ile 1 arasında değişir.\n",
    "1: Tamamen benzer.\n",
    "-1: Tamamen zıt.\n",
    "0: Alakasız."
   ]
  },
  {
   "cell_type": "code",
   "execution_count": 31,
   "id": "6c8bbf62",
   "metadata": {},
   "outputs": [
    {
     "name": "stdout",
     "output_type": "stream",
     "text": [
      "meta_All_Beauty veri setinde benzerlik hesaplaması yapılıyor...\n"
     ]
    },
    {
     "ename": "MemoryError",
     "evalue": "Unable to allocate 47.2 GiB for an array with shape (112590, 112590) and data type float32",
     "output_type": "error",
     "traceback": [
      "\u001b[1;31m---------------------------------------------------------------------------\u001b[0m",
      "\u001b[1;31mMemoryError\u001b[0m                               Traceback (most recent call last)",
      "Cell \u001b[1;32mIn[31], line 11\u001b[0m\n\u001b[0;32m      8\u001b[0m \u001b[38;5;28mprint\u001b[39m(\u001b[38;5;124mf\u001b[39m\u001b[38;5;124m\"\u001b[39m\u001b[38;5;132;01m{\u001b[39;00mkey\u001b[38;5;132;01m}\u001b[39;00m\u001b[38;5;124m veri setinde benzerlik hesaplaması yapılıyor...\u001b[39m\u001b[38;5;124m\"\u001b[39m)\n\u001b[0;32m     10\u001b[0m \u001b[38;5;66;03m# Cosine similarity hesapla\u001b[39;00m\n\u001b[1;32m---> 11\u001b[0m similarity_matrix \u001b[38;5;241m=\u001b[39m cosine_similarity(embeddings)\n\u001b[0;32m     13\u001b[0m \u001b[38;5;66;03m# Her ürün için en benzer 5 ürünü seç\u001b[39;00m\n\u001b[0;32m     14\u001b[0m top_similarities \u001b[38;5;241m=\u001b[39m {}\n",
      "File \u001b[1;32mC:\\ProgramData\\anaconda3\\Lib\\site-packages\\sklearn\\utils\\_param_validation.py:211\u001b[0m, in \u001b[0;36mvalidate_params.<locals>.decorator.<locals>.wrapper\u001b[1;34m(*args, **kwargs)\u001b[0m\n\u001b[0;32m    205\u001b[0m \u001b[38;5;28;01mtry\u001b[39;00m:\n\u001b[0;32m    206\u001b[0m     \u001b[38;5;28;01mwith\u001b[39;00m config_context(\n\u001b[0;32m    207\u001b[0m         skip_parameter_validation\u001b[38;5;241m=\u001b[39m(\n\u001b[0;32m    208\u001b[0m             prefer_skip_nested_validation \u001b[38;5;129;01mor\u001b[39;00m global_skip_validation\n\u001b[0;32m    209\u001b[0m         )\n\u001b[0;32m    210\u001b[0m     ):\n\u001b[1;32m--> 211\u001b[0m         \u001b[38;5;28;01mreturn\u001b[39;00m func(\u001b[38;5;241m*\u001b[39margs, \u001b[38;5;241m*\u001b[39m\u001b[38;5;241m*\u001b[39mkwargs)\n\u001b[0;32m    212\u001b[0m \u001b[38;5;28;01mexcept\u001b[39;00m InvalidParameterError \u001b[38;5;28;01mas\u001b[39;00m e:\n\u001b[0;32m    213\u001b[0m     \u001b[38;5;66;03m# When the function is just a wrapper around an estimator, we allow\u001b[39;00m\n\u001b[0;32m    214\u001b[0m     \u001b[38;5;66;03m# the function to delegate validation to the estimator, but we replace\u001b[39;00m\n\u001b[0;32m    215\u001b[0m     \u001b[38;5;66;03m# the name of the estimator by the name of the function in the error\u001b[39;00m\n\u001b[0;32m    216\u001b[0m     \u001b[38;5;66;03m# message to avoid confusion.\u001b[39;00m\n\u001b[0;32m    217\u001b[0m     msg \u001b[38;5;241m=\u001b[39m re\u001b[38;5;241m.\u001b[39msub(\n\u001b[0;32m    218\u001b[0m         \u001b[38;5;124mr\u001b[39m\u001b[38;5;124m\"\u001b[39m\u001b[38;5;124mparameter of \u001b[39m\u001b[38;5;124m\\\u001b[39m\u001b[38;5;124mw+ must be\u001b[39m\u001b[38;5;124m\"\u001b[39m,\n\u001b[0;32m    219\u001b[0m         \u001b[38;5;124mf\u001b[39m\u001b[38;5;124m\"\u001b[39m\u001b[38;5;124mparameter of \u001b[39m\u001b[38;5;132;01m{\u001b[39;00mfunc\u001b[38;5;241m.\u001b[39m\u001b[38;5;18m__qualname__\u001b[39m\u001b[38;5;132;01m}\u001b[39;00m\u001b[38;5;124m must be\u001b[39m\u001b[38;5;124m\"\u001b[39m,\n\u001b[0;32m    220\u001b[0m         \u001b[38;5;28mstr\u001b[39m(e),\n\u001b[0;32m    221\u001b[0m     )\n",
      "File \u001b[1;32mC:\\ProgramData\\anaconda3\\Lib\\site-packages\\sklearn\\metrics\\pairwise.py:1585\u001b[0m, in \u001b[0;36mcosine_similarity\u001b[1;34m(X, Y, dense_output)\u001b[0m\n\u001b[0;32m   1582\u001b[0m \u001b[38;5;28;01melse\u001b[39;00m:\n\u001b[0;32m   1583\u001b[0m     Y_normalized \u001b[38;5;241m=\u001b[39m normalize(Y, copy\u001b[38;5;241m=\u001b[39m\u001b[38;5;28;01mTrue\u001b[39;00m)\n\u001b[1;32m-> 1585\u001b[0m K \u001b[38;5;241m=\u001b[39m safe_sparse_dot(X_normalized, Y_normalized\u001b[38;5;241m.\u001b[39mT, dense_output\u001b[38;5;241m=\u001b[39mdense_output)\n\u001b[0;32m   1587\u001b[0m \u001b[38;5;28;01mreturn\u001b[39;00m K\n",
      "File \u001b[1;32mC:\\ProgramData\\anaconda3\\Lib\\site-packages\\sklearn\\utils\\extmath.py:193\u001b[0m, in \u001b[0;36msafe_sparse_dot\u001b[1;34m(a, b, dense_output)\u001b[0m\n\u001b[0;32m    191\u001b[0m         ret \u001b[38;5;241m=\u001b[39m np\u001b[38;5;241m.\u001b[39mdot(a, b)\n\u001b[0;32m    192\u001b[0m \u001b[38;5;28;01melse\u001b[39;00m:\n\u001b[1;32m--> 193\u001b[0m     ret \u001b[38;5;241m=\u001b[39m a \u001b[38;5;241m@\u001b[39m b\n\u001b[0;32m    195\u001b[0m \u001b[38;5;28;01mif\u001b[39;00m (\n\u001b[0;32m    196\u001b[0m     sparse\u001b[38;5;241m.\u001b[39missparse(a)\n\u001b[0;32m    197\u001b[0m     \u001b[38;5;129;01mand\u001b[39;00m sparse\u001b[38;5;241m.\u001b[39missparse(b)\n\u001b[0;32m    198\u001b[0m     \u001b[38;5;129;01mand\u001b[39;00m dense_output\n\u001b[0;32m    199\u001b[0m     \u001b[38;5;129;01mand\u001b[39;00m \u001b[38;5;28mhasattr\u001b[39m(ret, \u001b[38;5;124m\"\u001b[39m\u001b[38;5;124mtoarray\u001b[39m\u001b[38;5;124m\"\u001b[39m)\n\u001b[0;32m    200\u001b[0m ):\n\u001b[0;32m    201\u001b[0m     \u001b[38;5;28;01mreturn\u001b[39;00m ret\u001b[38;5;241m.\u001b[39mtoarray()\n",
      "\u001b[1;31mMemoryError\u001b[0m: Unable to allocate 47.2 GiB for an array with shape (112590, 112590) and data type float32"
     ]
    }
   ],
   "source": [
    "from sklearn.metrics.pairwise import cosine_similarity\n",
    "import numpy as np\n",
    "\n",
    "similarity_results = {}\n",
    "\n",
    "for key, embeddings in sentence_embeddings.items():\n",
    "    print(f\"{key} veri setinde benzerlik hesaplaması yapılıyor...\")\n",
    "    \n",
    "    similarity_matrix = cosine_similarity(embeddings)\n",
    "    \n",
    "    top_similarities = {}\n",
    "    for idx in range(similarity_matrix.shape[0]):\n",
    "\n",
    "        similar_indices = np.argsort(similarity_matrix[idx])[::-1][1:6]\n",
    "        similar_scores = similarity_matrix[idx][similar_indices]\n",
    "        top_similarities[idx] = list(zip(similar_indices, similar_scores))\n",
    "    \n",
    "    similarity_results[key] = top_similarities\n",
    "    print(f\"{key} veri seti için benzerlik hesaplama tamamlandı.\\n\")\n",
    "\n",
    "example_key = \"meta_All_Beauty\" \n",
    "example_product_idx = 0  \n",
    "print(f\"Örnek ürünün (index {example_product_idx}) benzer ürünleri:\")\n",
    "for idx, score in similarity_results[example_key][example_product_idx]:\n",
    "    print(f\"Ürün Index: {idx}, Benzerlik Skoru: {score}\")"
   ]
  },
  {
   "cell_type": "markdown",
   "id": "4ce8b927",
   "metadata": {},
   "source": [
    "vektör matrisinin boyutunun çok büyük olması nedeniyle bellekte yer bulamamasından kaynaklı hata aldım."
   ]
  },
  {
   "cell_type": "markdown",
   "id": "b7395e03",
   "metadata": {},
   "source": [
    "cosine similarity işlemi sırasında büyük bir benzerlik matrisi hesaplanmaya çalışılıyor ve bu da belleğin yetmediği bir duruma yol açıyor"
   ]
  },
  {
   "cell_type": "markdown",
   "id": "c17d037a",
   "metadata": {},
   "source": [
    "Mini Batch (Parçalı Hesaplama) Kullanımı: Büyük matrisin tümünü aynı anda hesaplamak yerine, benzerlik hesaplamasını küçük parçalar halinde yapabiliriz."
   ]
  },
  {
   "cell_type": "code",
   "execution_count": 33,
   "id": "5562aef8",
   "metadata": {},
   "outputs": [
    {
     "name": "stdout",
     "output_type": "stream",
     "text": [
      "meta_All_Beauty veri setinde parçalı benzerlik hesaplaması yapılıyor...\n",
      "1000/112590 ürün işlendi.\n",
      "2000/112590 ürün işlendi.\n",
      "3000/112590 ürün işlendi.\n",
      "4000/112590 ürün işlendi.\n",
      "5000/112590 ürün işlendi.\n",
      "6000/112590 ürün işlendi.\n",
      "7000/112590 ürün işlendi.\n",
      "8000/112590 ürün işlendi.\n",
      "9000/112590 ürün işlendi.\n",
      "10000/112590 ürün işlendi.\n",
      "11000/112590 ürün işlendi.\n",
      "12000/112590 ürün işlendi.\n",
      "13000/112590 ürün işlendi.\n",
      "14000/112590 ürün işlendi.\n",
      "15000/112590 ürün işlendi.\n",
      "16000/112590 ürün işlendi.\n",
      "17000/112590 ürün işlendi.\n",
      "18000/112590 ürün işlendi.\n",
      "19000/112590 ürün işlendi.\n",
      "20000/112590 ürün işlendi.\n",
      "21000/112590 ürün işlendi.\n",
      "22000/112590 ürün işlendi.\n",
      "23000/112590 ürün işlendi.\n",
      "24000/112590 ürün işlendi.\n",
      "25000/112590 ürün işlendi.\n",
      "26000/112590 ürün işlendi.\n",
      "27000/112590 ürün işlendi.\n",
      "28000/112590 ürün işlendi.\n",
      "29000/112590 ürün işlendi.\n",
      "30000/112590 ürün işlendi.\n",
      "31000/112590 ürün işlendi.\n",
      "32000/112590 ürün işlendi.\n",
      "33000/112590 ürün işlendi.\n",
      "34000/112590 ürün işlendi.\n",
      "35000/112590 ürün işlendi.\n",
      "36000/112590 ürün işlendi.\n",
      "37000/112590 ürün işlendi.\n",
      "38000/112590 ürün işlendi.\n",
      "39000/112590 ürün işlendi.\n",
      "40000/112590 ürün işlendi.\n",
      "41000/112590 ürün işlendi.\n",
      "42000/112590 ürün işlendi.\n",
      "43000/112590 ürün işlendi.\n",
      "44000/112590 ürün işlendi.\n",
      "45000/112590 ürün işlendi.\n",
      "46000/112590 ürün işlendi.\n",
      "47000/112590 ürün işlendi.\n",
      "48000/112590 ürün işlendi.\n",
      "49000/112590 ürün işlendi.\n",
      "50000/112590 ürün işlendi.\n",
      "51000/112590 ürün işlendi.\n",
      "52000/112590 ürün işlendi.\n",
      "53000/112590 ürün işlendi.\n",
      "54000/112590 ürün işlendi.\n",
      "55000/112590 ürün işlendi.\n",
      "56000/112590 ürün işlendi.\n",
      "57000/112590 ürün işlendi.\n",
      "58000/112590 ürün işlendi.\n",
      "59000/112590 ürün işlendi.\n",
      "60000/112590 ürün işlendi.\n",
      "61000/112590 ürün işlendi.\n",
      "62000/112590 ürün işlendi.\n",
      "63000/112590 ürün işlendi.\n",
      "64000/112590 ürün işlendi.\n",
      "65000/112590 ürün işlendi.\n",
      "66000/112590 ürün işlendi.\n",
      "67000/112590 ürün işlendi.\n",
      "68000/112590 ürün işlendi.\n",
      "69000/112590 ürün işlendi.\n",
      "70000/112590 ürün işlendi.\n",
      "71000/112590 ürün işlendi.\n",
      "72000/112590 ürün işlendi.\n",
      "73000/112590 ürün işlendi.\n",
      "74000/112590 ürün işlendi.\n",
      "75000/112590 ürün işlendi.\n",
      "76000/112590 ürün işlendi.\n",
      "77000/112590 ürün işlendi.\n",
      "78000/112590 ürün işlendi.\n",
      "79000/112590 ürün işlendi.\n",
      "80000/112590 ürün işlendi.\n",
      "81000/112590 ürün işlendi.\n",
      "82000/112590 ürün işlendi.\n",
      "83000/112590 ürün işlendi.\n",
      "84000/112590 ürün işlendi.\n",
      "85000/112590 ürün işlendi.\n",
      "86000/112590 ürün işlendi.\n",
      "87000/112590 ürün işlendi.\n",
      "88000/112590 ürün işlendi.\n",
      "89000/112590 ürün işlendi.\n",
      "90000/112590 ürün işlendi.\n",
      "91000/112590 ürün işlendi.\n",
      "92000/112590 ürün işlendi.\n",
      "93000/112590 ürün işlendi.\n",
      "94000/112590 ürün işlendi.\n",
      "95000/112590 ürün işlendi.\n",
      "96000/112590 ürün işlendi.\n",
      "97000/112590 ürün işlendi.\n",
      "98000/112590 ürün işlendi.\n",
      "99000/112590 ürün işlendi.\n",
      "100000/112590 ürün işlendi.\n",
      "101000/112590 ürün işlendi.\n",
      "102000/112590 ürün işlendi.\n",
      "103000/112590 ürün işlendi.\n",
      "104000/112590 ürün işlendi.\n",
      "105000/112590 ürün işlendi.\n",
      "106000/112590 ürün işlendi.\n",
      "107000/112590 ürün işlendi.\n",
      "108000/112590 ürün işlendi.\n",
      "109000/112590 ürün işlendi.\n",
      "110000/112590 ürün işlendi.\n",
      "111000/112590 ürün işlendi.\n",
      "112000/112590 ürün işlendi.\n",
      "112590/112590 ürün işlendi.\n",
      "meta_All_Beauty veri seti için parçalı benzerlik hesaplama tamamlandı.\n",
      "\n",
      "meta_Digital_Music veri setinde parçalı benzerlik hesaplaması yapılıyor...\n",
      "1000/70537 ürün işlendi.\n",
      "2000/70537 ürün işlendi.\n",
      "3000/70537 ürün işlendi.\n",
      "4000/70537 ürün işlendi.\n",
      "5000/70537 ürün işlendi.\n",
      "6000/70537 ürün işlendi.\n",
      "7000/70537 ürün işlendi.\n",
      "8000/70537 ürün işlendi.\n",
      "9000/70537 ürün işlendi.\n",
      "10000/70537 ürün işlendi.\n",
      "11000/70537 ürün işlendi.\n",
      "12000/70537 ürün işlendi.\n",
      "13000/70537 ürün işlendi.\n",
      "14000/70537 ürün işlendi.\n",
      "15000/70537 ürün işlendi.\n",
      "16000/70537 ürün işlendi.\n",
      "17000/70537 ürün işlendi.\n",
      "18000/70537 ürün işlendi.\n",
      "19000/70537 ürün işlendi.\n",
      "20000/70537 ürün işlendi.\n",
      "21000/70537 ürün işlendi.\n",
      "22000/70537 ürün işlendi.\n",
      "23000/70537 ürün işlendi.\n",
      "24000/70537 ürün işlendi.\n",
      "25000/70537 ürün işlendi.\n",
      "26000/70537 ürün işlendi.\n",
      "27000/70537 ürün işlendi.\n",
      "28000/70537 ürün işlendi.\n",
      "29000/70537 ürün işlendi.\n",
      "30000/70537 ürün işlendi.\n",
      "31000/70537 ürün işlendi.\n",
      "32000/70537 ürün işlendi.\n",
      "33000/70537 ürün işlendi.\n",
      "34000/70537 ürün işlendi.\n",
      "35000/70537 ürün işlendi.\n",
      "36000/70537 ürün işlendi.\n",
      "37000/70537 ürün işlendi.\n",
      "38000/70537 ürün işlendi.\n",
      "39000/70537 ürün işlendi.\n",
      "40000/70537 ürün işlendi.\n",
      "41000/70537 ürün işlendi.\n",
      "42000/70537 ürün işlendi.\n",
      "43000/70537 ürün işlendi.\n",
      "44000/70537 ürün işlendi.\n",
      "45000/70537 ürün işlendi.\n",
      "46000/70537 ürün işlendi.\n",
      "47000/70537 ürün işlendi.\n",
      "48000/70537 ürün işlendi.\n",
      "49000/70537 ürün işlendi.\n",
      "50000/70537 ürün işlendi.\n",
      "51000/70537 ürün işlendi.\n",
      "52000/70537 ürün işlendi.\n",
      "53000/70537 ürün işlendi.\n",
      "54000/70537 ürün işlendi.\n",
      "55000/70537 ürün işlendi.\n",
      "56000/70537 ürün işlendi.\n",
      "57000/70537 ürün işlendi.\n",
      "58000/70537 ürün işlendi.\n",
      "59000/70537 ürün işlendi.\n",
      "60000/70537 ürün işlendi.\n",
      "61000/70537 ürün işlendi.\n",
      "62000/70537 ürün işlendi.\n",
      "63000/70537 ürün işlendi.\n",
      "64000/70537 ürün işlendi.\n",
      "65000/70537 ürün işlendi.\n",
      "66000/70537 ürün işlendi.\n",
      "67000/70537 ürün işlendi.\n",
      "68000/70537 ürün işlendi.\n",
      "69000/70537 ürün işlendi.\n",
      "70000/70537 ürün işlendi.\n",
      "70537/70537 ürün işlendi.\n",
      "meta_Digital_Music veri seti için parçalı benzerlik hesaplama tamamlandı.\n",
      "\n",
      "meta_Health_and_Personal_Care veri setinde parçalı benzerlik hesaplaması yapılıyor...\n",
      "1000/60293 ürün işlendi.\n",
      "2000/60293 ürün işlendi.\n",
      "3000/60293 ürün işlendi.\n",
      "4000/60293 ürün işlendi.\n",
      "5000/60293 ürün işlendi.\n",
      "6000/60293 ürün işlendi.\n",
      "7000/60293 ürün işlendi.\n",
      "8000/60293 ürün işlendi.\n",
      "9000/60293 ürün işlendi.\n",
      "10000/60293 ürün işlendi.\n",
      "11000/60293 ürün işlendi.\n",
      "12000/60293 ürün işlendi.\n",
      "13000/60293 ürün işlendi.\n",
      "14000/60293 ürün işlendi.\n",
      "15000/60293 ürün işlendi.\n",
      "16000/60293 ürün işlendi.\n",
      "17000/60293 ürün işlendi.\n",
      "18000/60293 ürün işlendi.\n",
      "19000/60293 ürün işlendi.\n",
      "20000/60293 ürün işlendi.\n",
      "21000/60293 ürün işlendi.\n",
      "22000/60293 ürün işlendi.\n",
      "23000/60293 ürün işlendi.\n",
      "24000/60293 ürün işlendi.\n",
      "25000/60293 ürün işlendi.\n",
      "26000/60293 ürün işlendi.\n",
      "27000/60293 ürün işlendi.\n",
      "28000/60293 ürün işlendi.\n",
      "29000/60293 ürün işlendi.\n",
      "30000/60293 ürün işlendi.\n",
      "31000/60293 ürün işlendi.\n",
      "32000/60293 ürün işlendi.\n",
      "33000/60293 ürün işlendi.\n",
      "34000/60293 ürün işlendi.\n",
      "35000/60293 ürün işlendi.\n",
      "36000/60293 ürün işlendi.\n",
      "37000/60293 ürün işlendi.\n",
      "38000/60293 ürün işlendi.\n",
      "39000/60293 ürün işlendi.\n",
      "40000/60293 ürün işlendi.\n",
      "41000/60293 ürün işlendi.\n",
      "42000/60293 ürün işlendi.\n",
      "43000/60293 ürün işlendi.\n",
      "44000/60293 ürün işlendi.\n",
      "45000/60293 ürün işlendi.\n",
      "46000/60293 ürün işlendi.\n",
      "47000/60293 ürün işlendi.\n",
      "48000/60293 ürün işlendi.\n",
      "49000/60293 ürün işlendi.\n",
      "50000/60293 ürün işlendi.\n",
      "51000/60293 ürün işlendi.\n",
      "52000/60293 ürün işlendi.\n",
      "53000/60293 ürün işlendi.\n",
      "54000/60293 ürün işlendi.\n",
      "55000/60293 ürün işlendi.\n",
      "56000/60293 ürün işlendi.\n",
      "57000/60293 ürün işlendi.\n",
      "58000/60293 ürün işlendi.\n",
      "59000/60293 ürün işlendi.\n",
      "60000/60293 ürün işlendi.\n",
      "60293/60293 ürün işlendi.\n",
      "meta_Health_and_Personal_Care veri seti için parçalı benzerlik hesaplama tamamlandı.\n",
      "\n"
     ]
    }
   ],
   "source": [
    "from sklearn.metrics.pairwise import cosine_similarity\n",
    "import numpy as np\n",
    "\n",
    "batch_size = 5000\n",
    "\n",
    "similarity_results = {}\n",
    "\n",
    "for key, embeddings in sentence_embeddings.items():\n",
    "    print(f\"{key} veri setinde parçalı benzerlik hesaplaması yapılıyor...\")\n",
    "    \n",
    "    top_similarities = {}\n",
    "    num_items = len(embeddings)\n",
    "    \n",
    "    for idx in range(num_items):\n",
    "        similarities = cosine_similarity([embeddings[idx]], embeddings).flatten()\n",
    "        \n",
    "        similar_indices = np.argsort(similarities)[::-1][1:6]\n",
    "        similar_scores = similarities[similar_indices]\n",
    "        top_similarities[idx] = list(zip(similar_indices, similar_scores))\n",
    "        \n",
    "        if (idx + 1) % 1000 == 0 or idx == num_items - 1:\n",
    "            print(f\"{idx + 1}/{num_items} ürün işlendi.\")\n",
    "    \n",
    "    similarity_results[key] = top_similarities\n",
    "    print(f\"{key} veri seti için parçalı benzerlik hesaplama tamamlandı.\\n\")"
   ]
  },
  {
   "cell_type": "raw",
   "id": "00960cec",
   "metadata": {},
   "source": [
    "şimdi benzerlik oranlarını tespit ederek, belirli bir ürün için benzer ürünleri listeleyerek bu listeyi kullanıcıya öneri olarak sunacağuz."
   ]
  },
  {
   "cell_type": "raw",
   "id": "2a9834ee",
   "metadata": {},
   "source": [
    "bilgisayarım zorlanma hatası vermeye başladığı için en bezner 5 ürünü alarak inceliyorum. daha fazla ürün ile zorlamuyorum."
   ]
  },
  {
   "cell_type": "code",
   "execution_count": 43,
   "id": "8786ded8",
   "metadata": {},
   "outputs": [
    {
     "name": "stdout",
     "output_type": "stream",
     "text": [
      "\n",
      "--- meta_All_Beauty veri seti ---\n",
      "Ürün 0 kendisiyle olan benzerlik skoru: (89502, 0.8687355)\n",
      "Ürün 0 için en benzer ürünler ve skorlar: [(84289, 0.6693698), (5140, 0.6673206), (7993, 0.65910995), (3719, 0.6576201)]\n",
      "\n",
      "--- meta_Digital_Music veri seti ---\n",
      "Ürün 0 kendisiyle olan benzerlik skoru: (46504, 0.765885)\n",
      "Ürün 0 için en benzer ürünler ve skorlar: [(31629, 0.75280344), (51797, 0.6765367), (1903, 0.64681035), (51796, 0.64310086)]\n",
      "\n",
      "--- meta_Health_and_Personal_Care veri seti ---\n",
      "Ürün 0 kendisiyle olan benzerlik skoru: (4148, 0.9265767)\n",
      "Ürün 0 için en benzer ürünler ve skorlar: [(20734, 0.8906635), (9393, 0.89011717), (3391, 0.8871401), (22586, 0.88691723)]\n"
     ]
    }
   ],
   "source": [
    "for key in similarity_results.keys():\n",
    "    print(f\"\\n--- {key} veri seti ---\")\n",
    "\n",
    "    example_product_idx = 0\n",
    "    self_similarity = similarity_results[key][example_product_idx][0]\n",
    "    print(f\"Ürün {example_product_idx} kendisiyle olan benzerlik skoru: {self_similarity}\")\n",
    "\n",
    "    similar_items = similarity_results[key][example_product_idx][1:6]\n",
    "    print(f\"Ürün {example_product_idx} için en benzer ürünler ve skorlar: {similar_items}\")"
   ]
  },
  {
   "cell_type": "markdown",
   "id": "23cef3ef",
   "metadata": {},
   "source": [
    "tüm data setler içerisinde kendisiyle en benzer olan healt and personel care seti. diğer setleri için vektörlerin optimize edilmesi gerekebilir anlamı çıkıyor."
   ]
  },
  {
   "cell_type": "raw",
   "id": "c1200450",
   "metadata": {},
   "source": [
    "meta_All_Beauty veri seti için\n",
    "En benzer 5 ürün ve skorları:\n",
    "Skorlar 0.657 ile 0.669 arasında değişiyor.\n",
    "Skorlar oldukça yakın, ancak önerilen ürünlerin detaylarını kontrol ederek gerçekten alakalı olup olmadıklarını değerlendirmek gerekir."
   ]
  },
  {
   "cell_type": "code",
   "execution_count": null,
   "id": "c26cdffa",
   "metadata": {},
   "outputs": [],
   "source": [
    "meta_Digital_Music veri seti için;\n",
    "En benzer 5 ürün ve skorları:\n",
    "Skorlar 0.641 ile 0.752 arasında değişiyor.\n",
    "Benzerlik oranları makul, ancak bir ürün için bu kadar farklı skorlar elde edilmesi veri setinde çeşitliliğin yüksek olduğunu gösterebilir."
   ]
  },
  {
   "cell_type": "code",
   "execution_count": null,
   "id": "37c9a1ec",
   "metadata": {},
   "outputs": [],
   "source": [
    "meta_Health_and_Personal_Care veri seti için;\n",
    "En benzer 5 ürün ve skorları:\n",
    "Skorlar 0.887 ile 0.890 arasında değişiyor.\n",
    "Skorlar oldukça yakın, bu da önerilen ürünlerin gerçekten alakalı olma olasılığını artırır."
   ]
  },
  {
   "cell_type": "raw",
   "id": "0465c09f",
   "metadata": {},
   "source": [
    "şimdi tüm data setlerin detaylı bir öneri analizi hazırlatacağım."
   ]
  },
  {
   "cell_type": "code",
   "execution_count": 44,
   "id": "48e74abe",
   "metadata": {},
   "outputs": [
    {
     "name": "stdout",
     "output_type": "stream",
     "text": [
      "\n",
      "--- meta_All_Beauty veri seti ---\n",
      "Seçilen ürün:\n",
      "title               howard lc0008 leather conditioner 8ounce 4pack\n",
      "detail           {'Package Dimensions': '7.1 x 5.5 x 3 inches; ...\n",
      "combined_text    howard lc0008 leather conditioner 8ounce 4pack...\n",
      "Name: 0, dtype: object\n",
      "\n",
      "Önerilen ürünler:\n",
      "1. Ürün (Skor: 0.6693698167800903):\n",
      "title            nine west womens wearable leather oxford flat ...\n",
      "detail           {'Package Dimensions': '8.15 x 4.84 x 1.85 inc...\n",
      "combined_text    nine west womens wearable leather oxford flat ...\n",
      "Name: 84289, dtype: object\n",
      "2. Ürün (Skor: 0.6673206090927124):\n",
      "title            cobblers choice co finest quality allnatural l...\n",
      "detail           {'Brand': 'COBBLER'S CHOICE CO. FINEST QUALITY...\n",
      "combined_text    cobblers choice co finest quality allnatural l...\n",
      "Name: 5140, dtype: object\n",
      "3. Ürün (Skor: 0.6591099500656128):\n",
      "title                        devils tail slapper by strict leather\n",
      "detail           {'Package Dimensions': '27.6 x 3.5 x 1.2 inche...\n",
      "combined_text    devils tail slapper by strict leather {'Packag...\n",
      "Name: 7993, dtype: object\n",
      "4. Ürün (Skor: 0.6576200723648071):\n",
      "title             imperial leather classic by cussons 4 x 75g bars\n",
      "detail           {'Item Form': 'Bar', 'Skin Type': 'All', 'Age ...\n",
      "combined_text    imperial leather classic by cussons 4 x 75g ba...\n",
      "Name: 3719, dtype: object\n",
      "\n",
      "--- meta_Digital_Music veri seti ---\n",
      "Seçilen ürün:\n",
      "title                                            baja marimba band\n",
      "detail               {'Date First Available': 'February 28, 2010'}\n",
      "combined_text    baja marimba band {'Date First Available': 'Fe...\n",
      "Name: 0, dtype: object\n",
      "\n",
      "Önerilen ürünler:\n",
      "1. Ürün (Skor: 0.7528034448623657):\n",
      "title                         julius wechter the baja marimba band\n",
      "detail           {'Package Dimensions': '5.59 x 4.84 x 0.35 inc...\n",
      "combined_text    julius wechter the baja marimba band {'Package...\n",
      "Name: 31629, dtype: object\n",
      "2. Ürün (Skor: 0.6765366792678833):\n",
      "title                            dumi the maraire marimba ensemble\n",
      "detail                {'Date First Available': 'January 29, 2013'}\n",
      "combined_text    dumi the maraire marimba ensemble {'Date First...\n",
      "Name: 51797, dtype: object\n",
      "3. Ürün (Skor: 0.6468103528022766):\n",
      "title                                        la guitarra de mexico\n",
      "detail           {'Date First Available': 'October 28, 2013', '...\n",
      "combined_text    la guitarra de mexico {'Date First Available':...\n",
      "Name: 1903, dtype: object\n",
      "4. Ürün (Skor: 0.6431008577346802):\n",
      "title                                                    santana 3\n",
      "detail           {'Date First Available': 'October 7, 2011', 'N...\n",
      "combined_text    santana 3 {'Date First Available': 'October 7,...\n",
      "Name: 51796, dtype: object\n",
      "\n",
      "--- meta_Health_and_Personal_Care veri seti ---\n",
      "Seçilen ürün:\n",
      "title            silicone bath body brush exfoliator shower bac...\n",
      "detail           {'Package Dimensions': '15 x 3.3 x 1.5 inches;...\n",
      "combined_text    silicone bath body brush exfoliator shower bac...\n",
      "Name: 0, dtype: object\n",
      "\n",
      "Önerilen ürünler:\n",
      "1. Ürün (Skor: 0.8906635046005249):\n",
      "title            silicone back scrubber bath body brush back ex...\n",
      "detail           {'Package Dimensions': '4.69 x 3.9 x 2.8 inche...\n",
      "combined_text    silicone back scrubber bath body brush back ex...\n",
      "Name: 20734, dtype: object\n",
      "2. Ürün (Skor: 0.8901171684265137):\n",
      "title            silicone bath body brush exfoliating silicone ...\n",
      "detail           {'Package Dimensions': '4.7 x 4.2 x 1.9 inches...\n",
      "combined_text    silicone bath body brush exfoliating silicone ...\n",
      "Name: 9393, dtype: object\n",
      "3. Ürün (Skor: 0.8871400952339172):\n",
      "title            urwoow silicone bath body brush back scrubber ...\n",
      "detail           {'Package Dimensions': '9 x 7 x 3 inches; 8.01...\n",
      "combined_text    urwoow silicone bath body brush back scrubber ...\n",
      "Name: 3391, dtype: object\n",
      "4. Ürün (Skor: 0.886917233467102):\n",
      "title            silicone back scrubber for shower for man and ...\n",
      "detail           {'Package Dimensions': '8.27 x 5.12 x 1.18 inc...\n",
      "combined_text    silicone back scrubber for shower for man and ...\n",
      "Name: 22586, dtype: object\n"
     ]
    }
   ],
   "source": [
    "for key in similarity_results.keys():\n",
    "    print(f\"\\n--- {key} veri seti ---\")\n",
    "\n",
    "    example_product_idx = 0\n",
    "    print(\"Seçilen ürün:\")\n",
    "    print(cleaned_data_frames[key].iloc[example_product_idx])\n",
    "\n",
    "    print(\"\\nÖnerilen ürünler:\")\n",
    "    similar_items = similarity_results[key][example_product_idx][1:6]\n",
    "    for idx, (prod_idx, score) in enumerate(similar_items):\n",
    "        print(f\"{idx+1}. Ürün (Skor: {score}):\")\n",
    "        print(cleaned_data_frames[key].iloc[prod_idx])"
   ]
  },
  {
   "cell_type": "raw",
   "id": "d83a5d7a",
   "metadata": {},
   "source": [
    "meta_All_Beauty veri seti:\n",
    "Seçilen ürün: howard lc0008 leather conditioner 8ounce 4pack\n",
    "Deri bakım ürünleriyle ilgili bir ürün.\n",
    "Önerilen ürünler:\n",
    "Ürün: nine west womens wearable leather oxford flat\n",
    "Deriyle alakalı ama bir ayakkabı ürünü.\n",
    "Ürün: cobblers choice co finest quality allnatural leather cleaner\n",
    "Bu ürün doğrudan deri temizliğiyle alakalı, öneri mantıklı görünüyor.\n",
    "Ürün: devils tail slapper by strict leather\n",
    "Deriyle ilgili ancak farklı bir kategoriye ait.\n",
    "Ürün: imperial leather classic by cussons\n",
    "Bu ürün deriyle ilgili değil, sabun ürünü. Burada öneri hatası olabilir."
   ]
  },
  {
   "cell_type": "markdown",
   "id": "be9fdc4d",
   "metadata": {},
   "source": [
    "Deriyle ilgili ürünler arasında bazı doğru öneriler var, ancak farklı kategorilere (sıvı temizleyici, ayakkabı, sabun) ait ürünler de önerilmiş. Bu, modelin vektörleştirme işlemi sırasında kategorik bağlamı tam olarak yakalayamadığını gösterebilir."
   ]
  },
  {
   "cell_type": "raw",
   "id": "135c86fb",
   "metadata": {},
   "source": [
    "meta_Digital_Music veri seti:\n",
    "Seçilen ürün: baja marimba band\n",
    "Marimba müzik grubu.\n",
    "Önerilen ürünler:\n",
    "Ürün: julius wechter the baja marimba band\n",
    "Çok mantıklı bir öneri, aynı sanatçının başka bir ürünü.\n",
    "Ürün: dumi the maraire marimba ensemble\n",
    "Yine mantıklı, marimba müziğiyle ilgili.\n",
    "Ürün: la guitarra de mexico\n",
    "Alakalı görünüyor, Meksika müziği içeriyor.\n",
    "Ürün: santana 3\n",
    "Santana’nın albümü, ancak Meksika müziğiyle doğrudan alakalı olmayabilir."
   ]
  },
  {
   "cell_type": "markdown",
   "id": "87c6ce0f",
   "metadata": {},
   "source": [
    "Müzik kategorisinde öneriler oldukça mantıklı görünüyor. Özellikle ilk iki öneri, doğrudan seçilen ürünle aynı temayı paylaşıyor"
   ]
  },
  {
   "cell_type": "raw",
   "id": "a6955e79",
   "metadata": {},
   "source": [
    "meta_Health_and_Personal_Care veri seti:\n",
    "Seçilen ürün: silicone bath body brush exfoliator shower back\n",
    "Silikon banyo fırçası.\n",
    "Önerilen ürünler:\n",
    "Ürün: silicone back scrubber bath body brush\n",
    "Çok mantıklı bir öneri, neredeyse aynı ürün.\n",
    "Ürün: silicone bath body brush exfoliating silicone\n",
    "Yine çok yakın bir öneri.\n",
    "Ürün: urwoow silicone bath body brush back scrubber\n",
    "Benzer bir ürün.\n",
    "Ürün: silicone back scrubber for shower for man and woman\n",
    "Doğrudan ilgili bir ürün."
   ]
  },
  {
   "cell_type": "markdown",
   "id": "2863be54",
   "metadata": {},
   "source": [
    "Bu veri setindeki öneriler çok başarılı. Seçilen ürünle aynı veya çok benzer ürünler önerilmiş"
   ]
  },
  {
   "cell_type": "markdown",
   "id": "9a033cbf",
   "metadata": {},
   "source": [
    "öneri yüzdelerini de görebilmek için altta grafik oluşturuyorum."
   ]
  },
  {
   "cell_type": "code",
   "execution_count": 47,
   "id": "fe9f10e3",
   "metadata": {},
   "outputs": [
    {
     "data": {
      "image/png": "[encoded data removed]",
      "text/plain": [
       "<Figure size 1200x1800 with 3 Axes>"
      ]
     },
     "metadata": {},
     "output_type": "display_data"
    }
   ],
   "source": [
    "import matplotlib.pyplot as plt\n",
    "\n",
    "fig, axes = plt.subplots(len(similarity_results), 1, figsize=(12, len(similarity_results) * 6))\n",
    "fig.tight_layout(pad=8)\n",
    "\n",
    "for idx, key in enumerate(similarity_results.keys()):\n",
    "    example_product_idx = 0\n",
    "    product_title = cleaned_data_frames[key].iloc[example_product_idx]['title']\n",
    "    similar_items = similarity_results[key][example_product_idx][:5]\n",
    "    \n",
    "    recommended_titles = [cleaned_data_frames[key].iloc[item[0]]['title'] for item in similar_items]\n",
    "    scores = [item[1] for item in similar_items]\n",
    "    \n",
    "    short_titles = [title[:50] + '...' if len(title) > 50 else title for title in recommended_titles]\n",
    "    \n",
    "    ax = axes[idx]\n",
    "    ax.barh(short_titles, scores, color='skyblue')\n",
    "    ax.set_xlabel('Benzerlik Skoru')\n",
    "    ax.set_ylabel('Önerilen Ürünler')\n",
    "    ax.set_title(f\"'{product_title[:50]}...' İçin {key} Veri Setinde En Benzer Ürünler\")\n",
    "    ax.invert_yaxis()  # Y eksenini ters çevir\n",
    "    \n",
    "    for i, score in enumerate(scores):\n",
    "        ax.text(score - 0.05, i, f\"{score:.2f}\", va='center', ha='right', color='black')\n",
    "\n",
    "plt.show()"
   ]
  }
 ],
 "metadata": {
  "kernelspec": {
   "display_name": "Python 3 (ipykernel)",
   "language": "python",
   "name": "python3"
  },
  "language_info": {
   "codemirror_mode": {
    "name": "ipython",
    "version": 3
   },
   "file_extension": ".py",
   "mimetype": "text/x-python",
   "name": "python",
   "nbconvert_exporter": "python",
   "pygments_lexer": "ipython3",
   "version": "3.11.5"
  }
 },
 "nbformat": 4,
 "nbformat_minor": 5
}
